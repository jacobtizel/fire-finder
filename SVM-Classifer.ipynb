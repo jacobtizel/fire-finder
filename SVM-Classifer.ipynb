{
 "cells": [
  {
   "cell_type": "markdown",
   "metadata": {},
   "source": [
    "This file contains the steps needed to train, evaluate and test the classifier. The current approach is image-level classification.\n",
    "*Later, we can use the features vector to mask the fire pixels in the fire-image.*"
   ]
  },
  {
   "cell_type": "code",
   "execution_count": null,
   "metadata": {},
   "outputs": [],
   "source": [
    "import os\n",
    "import numpy as np\n",
    "import cv2\n",
    "import matplotlib.pyplot as plt\n",
    "from sklearn.model_selection import train_test_split, GridSearchCV\n",
    "from sklearn.svm import SVC\n",
    "from sklearn.metrics import accuracy_score, classification_report, confusion_matrix\n",
    "from skimage.feature import local_binary_pattern"
   ]
  },
  {
   "cell_type": "markdown",
   "metadata": {},
   "source": [
    "## 1. Model Definition"
   ]
  },
  {
   "cell_type": "code",
   "execution_count": null,
   "metadata": {},
   "outputs": [],
   "source": [
    "# Load dataset\n",
    "fire_dir = \"dataset/fire\"\n",
    "non_fire_dir = \"dataset/non_fire\"\n",
    "\n",
    "X, y = [], [] #X is the features and y is the Label\n",
    "\n",
    "# Process fire images, extract_features to select predefine features based on color spaces or textures and assign label\n",
    "for file in os.listdir(fire_dir):\n",
    "    img = cv2.imread(os.path.join(fire_dir, file))\n",
    "    if img is not None:\n",
    "        features = extract_features(img)\n",
    "        X.append(features)\n",
    "        y.append(1)  # Label: Fire:1\n",
    "\n",
    "# Process non-fire images\n",
    "for file in os.listdir(non_fire_dir):\n",
    "    img = cv2.imread(os.path.join(non_fire_dir, file))\n",
    "    if img is not None:\n",
    "        features = extract_features(img)\n",
    "        X.append(features)\n",
    "        y.append(0)  # Label: Non-Fire:0\n",
    "\n",
    "\n",
    "X = np.array(X)\n",
    "y = np.array(y)\n",
    "\n",
    "# Split into Train & Test\n",
    "X_train, X_test, y_train, y_test = train_test_split(X, y, test_size=0.2, random_state=42, stratify=y)\n",
    "\n",
    "print(f\"Training samples: {len(X_train)}, Testing samples: {len(X_test)}\")\n"
   ]
  },
  {
   "cell_type": "markdown",
   "metadata": {},
   "source": [
    "## 2. Model Training and Hyper Parameter Tuning\n",
    "\n",
    "Train SVM Classifier with Hyperparameter Tuning. We use GridSearchCV to find the best hyperparameters \n",
    "\n",
    "Assumption is that features have been extracted and added to X."
   ]
  },
  {
   "cell_type": "code",
   "execution_count": null,
   "metadata": {},
   "outputs": [],
   "source": [
    "# Define SVM model with RBF kernel\n",
    "svm = SVC(kernel='rbf', class_weight='balanced')# we might change the class_weight to imbalance after investigating the dataset. in that case, SMOTE or other techniques are used.\n",
    "\n",
    "# Hyperparameter tuning\n",
    "param_grid = {\n",
    "    'C': [0.1, 1, 10, 100],  # Regularization parameter\n",
    "    'gamma': [0.01, 0.1, 1, 10]  # Kernel coefficient\n",
    "}\n",
    "\n",
    "grid_search = GridSearchCV(svm, param_grid, cv=5, scoring='accuracy', n_jobs=-1)\n",
    "grid_search.fit(X_train, y_train)\n",
    "\n",
    "# Best parameters\n",
    "print(f\"Best Hyperparameters: {grid_search.best_params_}\")\n",
    "\n",
    "# Train final model with best parameters\n",
    "best_svm = grid_search.best_estimator_\n"
   ]
  },
  {
   "cell_type": "markdown",
   "metadata": {},
   "source": [
    "## 3. Model Evaluation"
   ]
  },
  {
   "cell_type": "code",
   "execution_count": null,
   "metadata": {},
   "outputs": [],
   "source": [
    "# Predictions\n",
    "y_pred = best_svm.predict(X_test)\n",
    "\n",
    "# Accuracy\n",
    "accuracy = accuracy_score(y_test, y_pred)\n",
    "print(f\"Test Accuracy: {accuracy:.4f}\")\n",
    "\n",
    "# Classification Report\n",
    "print(\"\\nClassification Report:\")\n",
    "print(classification_report(y_test, y_pred))\n",
    "\n",
    "# Confusion Matrix\n",
    "conf_matrix = confusion_matrix(y_test, y_pred)\n",
    "print(\"\\nConfusion Matrix:\")\n",
    "print(conf_matrix)\n",
    "\n",
    "# Plot Confusion Matrix\n",
    "plt.figure(figsize=(5, 4))\n",
    "plt.imshow(conf_matrix, cmap=\"Blues\", interpolation=\"nearest\")\n",
    "plt.colorbar()\n",
    "plt.xlabel(\"Predicted Label\")\n",
    "plt.ylabel(\"True Label\")\n",
    "plt.title(\"Confusion Matrix\")\n",
    "plt.xticks([0, 1], [\"Non-Fire\", \"Fire\"])\n",
    "plt.yticks([0, 1], [\"Non-Fire\", \"Fire\"])\n",
    "plt.show()\n"
   ]
  },
  {
   "cell_type": "markdown",
   "metadata": {},
   "source": [
    "## 4. Stats on New Unseen Image (tests)"
   ]
  },
  {
   "cell_type": "code",
   "execution_count": null,
   "metadata": {},
   "outputs": [],
   "source": [
    "def classify_image(image_path, model):\n",
    "    img = cv2.imread(image_path)\n",
    "    features = extract_features(img).reshape(1, -1)  # Reshape for model\n",
    "    prediction = model.predict(features)[0]\n",
    "    \n",
    "    plt.imshow(cv2.cvtColor(img, cv2.COLOR_BGR2RGB))\n",
    "    plt.axis('off')\n",
    "    plt.title(\"Fire Detected\" if prediction == 1 else \"No Fire Detected\")\n",
    "    plt.show()\n",
    "    \n",
    "    return prediction\n",
    "\n",
    "# Test on a new image\n",
    "image_path = \"dataset/test/fire_example.jpg\"\n",
    "result = classify_image(image_path, best_svm)\n"
   ]
  }
 ],
 "metadata": {
  "language_info": {
   "name": "python"
  }
 },
 "nbformat": 4,
 "nbformat_minor": 2
}
