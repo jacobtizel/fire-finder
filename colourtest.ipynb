{
 "cells": [
  {
   "cell_type": "code",
   "execution_count": null,
   "metadata": {},
   "outputs": [],
   "source": [
    "from pipeline.Colourspaces import *\n",
    "from pipeline.postprocessing import *\n",
    "\n",
    "\n",
    "\n",
    "image = cv2.imread(\"/home/jtizel/Documents/UBCO/COSC444/project/fire-finder/BoWFireDataset/dataset/img/fire/fire021.png\")\n",
    "\n",
    "cv2.imshow('image_window', image)\n",
    "cv2.waitKey(0)\n",
    "cv2.destroyAllWindows()\n",
    "\n",
    "ycbcrMask = YCbCrProcessing(image)\n",
    "cv2.imshow('image_window', cv2.bitwise_and(image, image, mask=ycbcrMask))\n",
    "cv2.waitKey(0)\n",
    "cv2.destroyAllWindows()\n",
    "\n",
    "ycbcrMask = YCbCrProcessing(image)\n",
    "cv2.imshow('image_window2', cv2.bitwise_and(image, image, mask=closing(ycbcrMask)))\n",
    "# cv2.waitKey(0)\n",
    "# cv2.destroyAllWindows()\n",
    "\n",
    "# # q = largestCountourArea(ycbcrMask)\n",
    "# cv2.imshow('image_window2', ycbcrMask)\n",
    "# cv2.waitKey(0)\n",
    "# cv2.destroyAllWindows()\n",
    "\n",
    "rgbMask = RGBProcessing(image)\n",
    "cv2.imshow('image_window', cv2.bitwise_and(image, image, mask=rgbMask))\n",
    "# cv2.waitKey(0)\n",
    "# cv2.destroyAllWindows()\n",
    "\n",
    "rgbMask = RGBProcessing(image)\n",
    "cv2.imshow('image_window2', cv2.bitwise_and(image, image, mask=closing(rgbMask)))\n",
    "cv2.waitKey(0)\n",
    "cv2.destroyAllWindows()\n",
    "\n",
    "LABMask = LABProcessing(image)\n",
    "cv2.imshow('image_window', cv2.bitwise_and(image, image, mask=LABMask))\n",
    "# cv2.waitKey(0)\n",
    "# cv2.destroyAllWindows()\n",
    "\n",
    "LABMask = LABProcessing(image)\n",
    "cv2.imshow('image_window2', cv2.bitwise_and(image, image, mask=closing(LABMask)))\n",
    "cv2.waitKey(0)\n",
    "cv2.destroyAllWindows()\n",
    "\n",
    "HSVMask = HSVProcessing(image)\n",
    "cv2.imshow('image_window', cv2.bitwise_and(image, image, mask=HSVMask))\n",
    "# cv2.waitKey(0)\n",
    "# cv2.destroyAllWindows()\n",
    "\n",
    "HSVMask = HSVProcessing(image)\n",
    "cv2.imshow('image_window2', cv2.bitwise_and(image, image, mask=closing(HSVMask)))\n",
    "cv2.waitKey(0)\n",
    "cv2.destroyAllWindows()"
   ]
  }
 ],
 "metadata": {
  "kernelspec": {
   "display_name": ".venv",
   "language": "python",
   "name": "python3"
  },
  "language_info": {
   "codemirror_mode": {
    "name": "ipython",
    "version": 3
   },
   "file_extension": ".py",
   "mimetype": "text/x-python",
   "name": "python",
   "nbconvert_exporter": "python",
   "pygments_lexer": "ipython3",
   "version": "3.10.12"
  }
 },
 "nbformat": 4,
 "nbformat_minor": 2
}
