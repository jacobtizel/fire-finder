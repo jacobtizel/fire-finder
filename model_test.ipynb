{
 "cells": [
  {
   "cell_type": "code",
   "execution_count": null,
   "metadata": {},
   "outputs": [],
   "source": [
    "from pipeline.Preprocessing import *\n",
    "from pipeline.featureExtraction import *\n",
    "from pipeline.Colourspaces import *\n",
    "import cv2\n",
    "import os\n",
    "import numpy as np\n",
    "import matplotlib.pyplot as plt\n",
    "import joblib"
   ]
  },
  {
   "cell_type": "code",
   "execution_count": null,
   "metadata": {},
   "outputs": [],
   "source": [
    "## the following step to test an image on a pre-trained model\n",
    "\n",
    "#1. Read \n",
    "image= cv2.imread(\"BoWFireDataset/dataset/img/fire/fire007.png\")"
   ]
  },
  {
   "cell_type": "code",
   "execution_count": null,
   "metadata": {},
   "outputs": [],
   "source": [
    "#2 resize and bilateral filter (preprocessing step)\n",
    "img_resized = resize_with_padding(image=image)\n",
    "blured_img = apply_bilateral_filter(img=img_resized)\n",
    "\n",
    "height, width, _ = blured_img.shape # to use later after prediction to convert array of pixels to 2D"
   ]
  },
  {
   "cell_type": "code",
   "execution_count": null,
   "metadata": {},
   "outputs": [],
   "source": [
    "#3 \n",
    "blured_img= cv2.cvtColor(blured_img, cv2.COLOR_BGR2RGB) # this step is critical cuz the filters assume input is in RGB not BGR(default)\n",
    "# 3.1Extract pixel color features : selected colors are ['V', 'b', 'Cr', 'Cb']\n",
    "color_feats = extract_top_color_features(blured_img)\n",
    "# 3.2 Extract gabor features : selected gabor resonses are ['g2', 'g6', 'g10', 'g14']\n",
    "gabor_features= extract_top_gabor_features(blured_img)\n",
    "combined_feats = np.hstack((color_feats, gabor_features))  # (n_pixels, 8)\n"
   ]
  },
  {
   "cell_type": "code",
   "execution_count": null,
   "metadata": {},
   "outputs": [],
   "source": [
    "\n",
    "#4 need to scale the input: I should have passed the same scaler I used\n",
    "#  for training or now!! I add this later\n",
    "scaler = joblib.load(\"tuned_models/scaler.pkl\")\n",
    "features_scaled = scaler.transform(combined_feats)"
   ]
  },
  {
   "cell_type": "code",
   "execution_count": null,
   "metadata": {},
   "outputs": [],
   "source": [
    "#5. Load the saved model and predict\n",
    "model = joblib.load('tuned_models/best_logistic_model.pkl')\n",
    "y_pred = model.predict(features_scaled) #1D array of pixels\n"
   ]
  },
  {
   "cell_type": "code",
   "execution_count": null,
   "metadata": {},
   "outputs": [],
   "source": [
    "#6 reshape from array to 2D\n",
    "mask = y_pred.reshape((height, width))\n",
    "\n",
    "plt.imshow(mask, cmap='hot')\n",
    "plt.title(\"Fire Prediction Mask\")\n",
    "plt.axis('off')\n",
    "plt.show()\n",
    "\n",
    "rbgImg = cv2.cvtColor(image, cv2.COLOR_BGR2RGB)\n",
    "plt.imshow(rbgImg)\n",
    "plt.show()"
   ]
  }
 ],
 "metadata": {
  "kernelspec": {
   "display_name": ".venv",
   "language": "python",
   "name": "python3"
  },
  "language_info": {
   "codemirror_mode": {
    "name": "ipython",
    "version": 3
   },
   "file_extension": ".py",
   "mimetype": "text/x-python",
   "name": "python",
   "nbconvert_exporter": "python",
   "pygments_lexer": "ipython3",
   "version": "3.10.12"
  }
 },
 "nbformat": 4,
 "nbformat_minor": 2
}
