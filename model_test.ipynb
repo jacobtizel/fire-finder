{
 "cells": [
  {
   "cell_type": "code",
   "execution_count": null,
   "metadata": {},
   "outputs": [],
   "source": [
    "from pipeline.Preprocessing import *\n",
    "from pipeline.featureExtraction import *\n",
    "from pipeline.Colourspaces import *\n",
    "from pipeline.postprocessing import *\n",
    "\n",
    "import cv2\n",
    "import os\n",
    "import numpy as np\n",
    "import matplotlib.pyplot as plt\n",
    "import joblib"
   ]
  },
  {
   "cell_type": "code",
   "execution_count": null,
   "metadata": {},
   "outputs": [],
   "source": [
    "## the following step to test an image on a pre-trained model\n",
    "\n",
    "#1. Read \n",
    "# image= cv2.imread(\"BoWFireDataset/dataset/img/fire/fire007.png\")\n",
    "image= cv2.imread(\"test_images/a1.png\")"
   ]
  },
  {
   "cell_type": "code",
   "execution_count": null,
   "metadata": {},
   "outputs": [],
   "source": [
    "#2 resize and bilateral filter (preprocessing step)\n",
    "img_resized = resize_with_padding(image=image)\n",
    "blured_img = apply_bilateral_filter(img=img_resized)\n",
    "\n",
    "height, width, _ = blured_img.shape # to use later after prediction to convert array of pixels to 2D"
   ]
  },
  {
   "cell_type": "code",
   "execution_count": null,
   "metadata": {},
   "outputs": [],
   "source": [
    "#3 \n",
    "blured_img= cv2.cvtColor(blured_img, cv2.COLOR_BGR2RGB) # this step is critical cuz the filters assume input is in RGB not BGR(default)\n",
    "# 3.1Extract pixel color features : selected colors are ['V', 'b', 'Cr', 'Cb']\n",
    "color_feats = extract_top_color_features(blured_img)\n",
    "# 3.2 Extract gabor features : selected gabor resonses are ['g2', 'g6', 'g10', 'g14']\n",
    "gabor_features= extract_top_gabor_features(blured_img)\n",
    "combined_feats = np.hstack((color_feats, gabor_features))  # (n_pixels, 8)\n"
   ]
  },
  {
   "cell_type": "code",
   "execution_count": null,
   "metadata": {},
   "outputs": [],
   "source": [
    "\n",
    "#4 need to scale the input: I should have passed the same scaler I used\n",
    "#  for training or now!! I add this later\n",
    "scaler = joblib.load(\"tuned_models/scaler.pkl\")\n",
    "features_scaled = scaler.transform(combined_feats)"
   ]
  },
  {
   "cell_type": "code",
   "execution_count": null,
   "metadata": {},
   "outputs": [],
   "source": [
    "#5. Load the saved model and predict\n",
    "model = joblib.load('tuned_models/best_lightGBM_model.pkl')\n",
    "y_pred = model.predict(features_scaled) #1D array of pixels\n"
   ]
  },
  {
   "cell_type": "code",
   "execution_count": null,
   "metadata": {},
   "outputs": [],
   "source": [
    "#6 reshape from array to 2D\n",
    "mask = y_pred.reshape((height, width))\n",
    "mask = mask.astype('uint8')\n",
    "mask = closing(mask)\n",
    "\n",
    "plt.imshow(mask, cmap='hot')\n",
    "plt.title(\"Fire Prediction Mask\")\n",
    "plt.axis('off')\n",
    "plt.show()\n",
    "\n",
    "rbgImg = cv2.cvtColor(image, cv2.COLOR_BGR2RGB)\n",
    "plt.imshow(rbgImg)\n",
    "plt.show()"
   ]
  },
  {
   "cell_type": "code",
   "execution_count": null,
   "metadata": {},
   "outputs": [],
   "source": [
    "## this\n",
    "\n",
    "img1= cv2.imread(\"./test_images/a1.png\")\n",
    "img1 = resize_with_padding(img1)\n",
    "cv2.imwrite(\"./test_images/a1_resized.png\", img1)\n",
    "\n",
    "# plt.imshow(cv2.cvtColor(img1, cv2.COLOR_BGR2RGB))\n",
    "# plt.axis('off')\n",
    "# plt.savefig(\"./test_images/f1_resized.png\")\n",
    "# plt.show()"
   ]
  },
  {
   "cell_type": "code",
   "execution_count": null,
   "metadata": {},
   "outputs": [],
   "source": [
    "def plot_images_and_masks(images, masks, titles=None, figsize=(8, 6)):\n",
    "    \"\"\"\n",
    "    Plots 3 BGR images in a row with their corresponding binary masks below.\n",
    "\n",
    "    Parameters:\n",
    "        images (list of np.ndarray): List of 3 RGB images (H, W, 3).\n",
    "        masks (list of np.ndarray): List of 3 binary masks (H, W).\n",
    "        titles (list of str): Optional list of titles for each image.\n",
    "        figsize (tuple): Size of the figure.\n",
    "    \"\"\"\n",
    "    assert len(images) == len(masks) == 3, \"You must provide exactly 3 images and 3 masks.\"\n",
    "\n",
    "    fig, axes = plt.subplots(2, 3, figsize=figsize)\n",
    "\n",
    "    for i in range(3):\n",
    "        axes[0, i].imshow(cv2.cvtColor(images[i], cv2.COLOR_BGR2RGB))\n",
    "        axes[0, i].axis(\"off\")\n",
    "        if titles:\n",
    "            axes[0, i].set_title(titles[i])\n",
    "\n",
    "        axes[1, i].imshow(masks[i], cmap='gray')\n",
    "        axes[1, i].axis(\"off\")\n",
    "        if titles:\n",
    "            axes[1, i].set_title(f\"Mask ({titles[i]})\")\n",
    "\n",
    "    plt.tight_layout()\n",
    "    plt.savefig(\"./test_images/examples_withmask.png\")\n",
    "    plt.show()"
   ]
  },
  {
   "cell_type": "code",
   "execution_count": null,
   "metadata": {},
   "outputs": [],
   "source": [
    "img1= cv2.imread(\"./test_images/d1.png\")\n",
    "#img1=resize_image(img1, size=(224,224))\n",
    "img1=resize_with_padding(img1)\n",
    "img2 =cv2.imread(\"./test_images/e1.png\")\n",
    "img2=resize_with_padding(img2)\n",
    "img3 = cv2.imread(\"./test_images/c1.png\")\n",
    "img3=resize_with_padding(img3)\n",
    "mask1=cv2.imread(\"./test_images/d2.png\")\n",
    "mask2=cv2.imread(\"./test_images/e2.png\")\n",
    "mask3 =cv2.imread(\"./test_images/c2.png\")"
   ]
  },
  {
   "cell_type": "code",
   "execution_count": null,
   "metadata": {},
   "outputs": [],
   "source": [
    "plot_images_and_masks([img1, img2, img3], [mask1, mask2, mask3], titles=['a','b','c'])\n"
   ]
  }
 ],
 "metadata": {
  "kernelspec": {
   "display_name": "Python 3 (ipykernel)",
   "language": "python",
   "name": "python3"
  },
  "language_info": {
   "codemirror_mode": {
    "name": "ipython",
    "version": 3
   },
   "file_extension": ".py",
   "mimetype": "text/x-python",
   "name": "python",
   "nbconvert_exporter": "python",
   "pygments_lexer": "ipython3",
   "version": "3.9.13"
  }
 },
 "nbformat": 4,
 "nbformat_minor": 4
}
